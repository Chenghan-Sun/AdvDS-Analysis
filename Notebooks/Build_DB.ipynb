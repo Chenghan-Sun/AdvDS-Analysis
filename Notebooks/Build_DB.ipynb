{
 "cells": [
  {
   "cell_type": "code",
   "execution_count": 1,
   "metadata": {},
   "outputs": [],
   "source": [
    "import sys\n",
    "sys.path.insert(0, '/Library/Frameworks/Python.framework/Versions/3.7/lib/python3.7/site-packages')\n",
    "import pymysql\n",
    "import csv"
   ]
  },
  {
   "cell_type": "markdown",
   "metadata": {},
   "source": [
    "## Build Database "
   ]
  },
  {
   "cell_type": "code",
   "execution_count": 2,
   "metadata": {},
   "outputs": [],
   "source": [
    "class YelpDb:\n",
    "    \"\"\" Yelp Database Configurations\n",
    "    \"\"\"\n",
    "    def __init__(self, ):\n",
    "        \"\"\" db connection\n",
    "        \"\"\"\n",
    "        self.host = \"localhost\"\n",
    "        self.user = \"root\"\n",
    "        self.password = \"skrskr220\"\n",
    "        self.db = \"yelp_info_db\"\n",
    "        self.charset = 'utf8'\n",
    "        self.conn = pymysql.connect(host=self.host,\n",
    "                                    user=self.user,\n",
    "                                    password=self.password,\n",
    "                                    db=self.db,\n",
    "                                    charset=self.charset)\n",
    "        self.cursor = self.conn.cursor()  # set a cursor object\n",
    "        \n",
    "    def create_yelp_table_1(self, table_name):\n",
    "        \"\"\" Create table in the yelp_info_db based on properties \n",
    "        \"\"\"\n",
    "        self.cursor.execute(\"DROP TABLE IF EXISTS \" + table_name)\n",
    "        sql = f\"\"\"CREATE TABLE {table_name} (\n",
    "              `Address` char(255) DEFAULT NULL,\n",
    "              `Amenities` varchar(5000) DEFAULT NULL,\n",
    "              `Category` char(255) DEFAULT NULL,\n",
    "              `Highlights` char(255) DEFAULT NULL,\n",
    "              `Name` char(255) DEFAULT NULL,\n",
    "              `Open_hours` varchar(500) DEFAULT NULL,\n",
    "              `Phone` char(20) DEFAULT NULL,\n",
    "              `Price` char(20) DEFAULT NULL,\n",
    "              `Rating` char(20) DEFAULT NULL,\n",
    "              `Reviews` char(20) DEFAULT NULL)\"\"\"\n",
    "        self.cursor.execute(sql)\n",
    "        print(\"Created table Successfully.\")\n",
    "    \n",
    "    def create_yelp_table(self, table_name):\n",
    "        \"\"\" Create table in the yelp_info_db based on properties \n",
    "        \"\"\"\n",
    "        self.cursor.execute(\"DROP TABLE IF EXISTS \" + table_name)\n",
    "        sql = f\"\"\"CREATE TABLE {table_name} (\n",
    "              `Address` char(255),\n",
    "              `Amenities` varchar(2000),\n",
    "              `Category` char(255),\n",
    "              `Highlights` char(255),\n",
    "              `Name` char(255),\n",
    "              `Open_hours` varchar(500),\n",
    "              `Phone` char(20),\n",
    "              `Price` char(20),\n",
    "              `Rating` char(20),\n",
    "              `Reviews` char(20))\"\"\"\n",
    "        self.cursor.execute(sql)\n",
    "        print(\"Created table Successfully.\")\n",
    "        \n",
    "    def csv_to_db(self, csv_path, table_name):\n",
    "        \"\"\" Convert .csv files into database \n",
    "        \"\"\"\n",
    "        with open(csv_path) as csv_file:\n",
    "            csv_data = csv.reader(csv_file, delimiter=',')\n",
    "            next(csv_data)\n",
    "            for row in csv_data:\n",
    "                # print(row)\n",
    "                self.cursor.execute(f'INSERT INTO {table_name} (Address, \\\n",
    "                  Amenities, Category, Highlights, Name, Open_hours, \\\n",
    "                               Phone, Price, Rating, Reviews) \\\n",
    "                                    VALUES(\"%s\", \"%s\", \"%s\", \"%s\", \"%s\", \"%s\", \"%s\", \"%s\", \"%s\", \"%s\")', row)\n",
    "            self.conn.commit()\n",
    "            print(\"Finsihed read csv into db.\")\n",
    "\n",
    "    def execute(self, sql):\n",
    "        \"\"\" Test sql execution\n",
    "        \"\"\"\n",
    "        try:\n",
    "            self.cursor.execute(sql)\n",
    "            self.conn.commit()\n",
    "        except pymysql.Error:\n",
    "            self.conn.rollback()\n",
    "            print(sql)\n",
    "\n",
    "    def fetch_all(self):\n",
    "        return self.cursor.fetchall()\n",
    "\n",
    "    def fetch_one(self):\n",
    "        return self.cursor.fetchone()\n",
    "\n",
    "    def close(self):\n",
    "        self.cursor.close()\n",
    "        self.conn.close()  # disconnect from server"
   ]
  },
  {
   "cell_type": "code",
   "execution_count": 3,
   "metadata": {},
   "outputs": [],
   "source": [
    "yelp_db_test = YelpDb()"
   ]
  },
  {
   "cell_type": "code",
   "execution_count": 4,
   "metadata": {},
   "outputs": [
    {
     "name": "stdout",
     "output_type": "stream",
     "text": [
      "Created table Successfully.\n"
     ]
    }
   ],
   "source": [
    "yelp_db_test.create_yelp_table('YELP_SF')"
   ]
  },
  {
   "cell_type": "code",
   "execution_count": 5,
   "metadata": {},
   "outputs": [
    {
     "name": "stdout",
     "output_type": "stream",
     "text": [
      "Finsihed read csv into db.\n"
     ]
    }
   ],
   "source": [
    "csv_path = '../Database/Yelp_all.csv'\n",
    "yelp_db_test.csv_to_db(csv_path, 'YELP_SF')\n",
    "yelp_db_test.close()"
   ]
  },
  {
   "cell_type": "code",
   "execution_count": null,
   "metadata": {},
   "outputs": [],
   "source": [
    "yelp_db_test.fetch_one()\n"
   ]
  },
  {
   "cell_type": "code",
   "execution_count": 2,
   "metadata": {},
   "outputs": [
    {
     "data": {
      "text/plain": [
       "<matplotlib.legend.Legend at 0x10e643c90>"
      ]
     },
     "execution_count": 2,
     "metadata": {},
     "output_type": "execute_result"
    },
    {
     "data": {
      "image/png": "[encoded data removed]",
      "text/plain": [
       "<Figure size 432x288 with 1 Axes>"
      ]
     },
     "metadata": {},
     "output_type": "display_data"
    }
   ],
   "source": [
    "import matplotlib.pyplot as plt\n",
    " \n",
    "values = [60, 80, 90, 55, 10, 30]\n",
    "colors = ['b', 'g', 'r', 'c', 'm', 'y']\n",
    "labels = ['US', 'UK', 'India', 'Germany', 'Australia', 'South Korea']\n",
    "explode = (0.2, 0, 0, 0, 0, 0)\n",
    "plt.pie(values, colors=colors, labels= values,explode=explode,counterclock=False, shadow=True)\n",
    "plt.title('Population Density Index')\n",
    "plt.legend(labels,loc=3)"
   ]
  },
  {
   "cell_type": "code",
   "execution_count": null,
   "metadata": {},
   "outputs": [],
   "source": []
  }
 ],
 "metadata": {
  "kernelspec": {
   "display_name": "Python 3",
   "language": "python",
   "name": "python3"
  },
  "language_info": {
   "codemirror_mode": {
    "name": "ipython",
    "version": 3
   },
   "file_extension": ".py",
   "mimetype": "text/x-python",
   "name": "python",
   "nbconvert_exporter": "python",
   "pygments_lexer": "ipython3",
   "version": "3.7.6"
  }
 },
 "nbformat": 4,
 "nbformat_minor": 2
}
