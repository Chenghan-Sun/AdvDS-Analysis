{
 "cells": [
  {
   "cell_type": "code",
   "execution_count": 1,
   "metadata": {},
   "outputs": [],
   "source": [
    "import sys\n",
    "from urllib.request import urlopen\n",
    "from bs4 import BeautifulSoup\n",
    "import re"
   ]
  },
  {
   "cell_type": "code",
   "execution_count": 2,
   "metadata": {},
   "outputs": [],
   "source": [
    "# open url connection \n",
    "link = 'https://patch.com/california/lajolla/ca-cities-rank-among-best-big-cities-live'\n",
    "html = urlopen(link).read()\n",
    "\n",
    "soup = BeautifulSoup(html, features=\"html5lib\")\n",
    "# use class to narrow search, based on observation \n",
    "target_level = soup.find('section', {\"class\": \"article-body\"})\n",
    "target_level_2 = target_level.find_all('ol')[1]\n",
    "target_level_3 = target_level_2.find_all('li')\n",
    "cali_cities = []\n",
    "for info in target_level_3:\n",
    "    cali_cities.append(info.get_text(strip=True))"
   ]
  },
  {
   "cell_type": "code",
   "execution_count": 3,
   "metadata": {},
   "outputs": [
    {
     "name": "stdout",
     "output_type": "stream",
     "text": [
      "San Diego \n",
      "San Francisco \n",
      "San Jose \n",
      "Sacramento \n",
      "Riverside \n",
      "Los Angeles \n",
      "Long Beach \n",
      "Anaheim \n",
      "Bakersfield \n",
      "Oakland \n",
      "Santa Ana \n",
      "Fresno \n"
     ]
    }
   ],
   "source": [
    "token_list = []\n",
    "for i in cali_cities:\n",
    "    flag = re.findall(\"[A-Za-z ]\", i)\n",
    "    if flag:\n",
    "        token = \"\".join(flag)\n",
    "        print(token)\n",
    "        token_list.append(token)"
   ]
  },
  {
   "cell_type": "code",
   "execution_count": 4,
   "metadata": {},
   "outputs": [
    {
     "data": {
      "text/plain": [
       "['San Diego ',\n",
       " 'San Francisco ',\n",
       " 'San Jose ',\n",
       " 'Sacramento ',\n",
       " 'Riverside ',\n",
       " 'Los Angeles ',\n",
       " 'Long Beach ',\n",
       " 'Anaheim ',\n",
       " 'Bakersfield ',\n",
       " 'Oakland ',\n",
       " 'Santa Ana ',\n",
       " 'Fresno ']"
      ]
     },
     "execution_count": 4,
     "metadata": {},
     "output_type": "execute_result"
    }
   ],
   "source": [
    "token_list"
   ]
  },
  {
   "cell_type": "code",
   "execution_count": null,
   "metadata": {},
   "outputs": [],
   "source": []
  }
 ],
 "metadata": {
  "kernelspec": {
   "display_name": "Python 3",
   "language": "python",
   "name": "python3"
  },
  "language_info": {
   "codemirror_mode": {
    "name": "ipython",
    "version": 3
   },
   "file_extension": ".py",
   "mimetype": "text/x-python",
   "name": "python",
   "nbconvert_exporter": "python",
   "pygments_lexer": "ipython3",
   "version": "3.7.3"
  }
 },
 "nbformat": 4,
 "nbformat_minor": 2
}
