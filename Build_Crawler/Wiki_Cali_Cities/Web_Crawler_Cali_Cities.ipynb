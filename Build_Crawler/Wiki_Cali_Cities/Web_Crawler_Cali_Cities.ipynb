{
 "cells": [
  {
   "cell_type": "code",
   "execution_count": 1,
   "metadata": {},
   "outputs": [],
   "source": [
    "import sys\n",
    "from urllib.request import urlopen\n",
    "from bs4 import BeautifulSoup\n",
    "import re"
   ]
  },
  {
   "cell_type": "code",
   "execution_count": 2,
   "metadata": {},
   "outputs": [],
   "source": [
    "# open url connection \n",
    "link = 'https://patch.com/california/lajolla/ca-cities-rank-among-best-big-cities-live'\n",
    "html = urlopen(link).read()\n",
    "\n",
    "soup = BeautifulSoup(html, features=\"html5lib\")\n",
    "# use class to narrow search, based on observation \n",
    "target_level = soup.find('section', {\"class\": \"article-body\"})\n",
    "target_level_2 = target_level.find_all('ol')[1]\n",
    "target_level_3 = target_level_2.find_all('li')\n",
    "cali_cities = []\n",
    "for info in target_level_3:\n",
    "    cali_cities.append(info.get_text(strip=True))"
   ]
  },
  {
   "cell_type": "code",
   "execution_count": 3,
   "metadata": {},
   "outputs": [
    {
     "name": "stdout",
     "output_type": "stream",
     "text": [
      "San Diego \n",
      "San Francisco \n",
      "San Jose \n",
      "Sacramento \n",
      "Riverside \n",
      "Los Angeles \n",
      "Long Beach \n",
      "Anaheim \n",
      "Bakersfield \n",
      "Oakland \n",
      "Santa Ana \n",
      "Fresno \n"
     ]
    }
   ],
   "source": [
    "token_list = []\n",
    "for i in cali_cities:\n",
    "    flag = re.findall(\"[A-Za-z ]\", i)\n",
    "    if flag:\n",
    "        token = \"\".join(flag)\n",
    "        print(token)\n",
    "        token_list.append(token)"
   ]
  },
  {
   "cell_type": "code",
   "execution_count": 4,
   "metadata": {},
   "outputs": [
    {
     "data": {
      "text/plain": [
       "['San Diego ',\n",
       " 'San Francisco ',\n",
       " 'San Jose ',\n",
       " 'Sacramento ',\n",
       " 'Riverside ',\n",
       " 'Los Angeles ',\n",
       " 'Long Beach ',\n",
       " 'Anaheim ',\n",
       " 'Bakersfield ',\n",
       " 'Oakland ',\n",
       " 'Santa Ana ',\n",
       " 'Fresno ']"
      ]
     },
     "execution_count": 4,
     "metadata": {},
     "output_type": "execute_result"
    }
   ],
   "source": [
    "token_list"
   ]
  },
  {
   "cell_type": "code",
   "execution_count": 30,
   "metadata": {},
   "outputs": [
    {
     "name": "stdout",
     "output_type": "stream",
     "text": [
      "['Los Angeles', 'San Diego', 'San Jose', 'San Francisco', 'Fresno', 'Sacramento', 'Long Beach', 'Oakland', 'Bakersfield', 'Anaheim', 'Santa Ana', 'Riverside', 'Stockton', 'Irvine', 'Chula Vista', 'Fremont', 'San Bernardino', 'Modesto', 'Fontana', 'Santa Clarita', 'Oxnard', 'Moreno Valley', 'Glendale', 'Huntington Beach', 'Ontario', 'Rancho Cucamonga', 'Santa Rosa', 'Oceanside', 'Elk Grove', 'Garden Grove']\n"
     ]
    }
   ],
   "source": [
    "link = 'https://en.wikipedia.org/wiki/List_of_largest_California_cities_by_population'\n",
    "html = urlopen(link).read()\n",
    "\n",
    "soup = BeautifulSoup(html, features=\"html\")\n",
    "cities = []\n",
    "table = soup.find('table', {\"class\": \"wikitable sortable\"})\n",
    "rows = table.find_all(\"tr\")\n",
    "for row in rows[1:]:\n",
    "    city = row.find_all(\"td\")[1].get_text(strip=True)\n",
    "    cities.append(city)\n",
    "print(cities[:30])"
   ]
  },
  {
   "cell_type": "code",
   "execution_count": 32,
   "metadata": {},
   "outputs": [],
   "source": [
    "with open(\"cities_of_CA.csv\",\"w\") as f:\n",
    "    for city in cities:\n",
    "        f.write(city + \"\\n\")"
   ]
  },
  {
   "cell_type": "code",
   "execution_count": null,
   "metadata": {},
   "outputs": [],
   "source": []
  }
 ],
 "metadata": {
  "kernelspec": {
   "display_name": "Python 3",
   "language": "python",
   "name": "python3"
  },
  "language_info": {
   "codemirror_mode": {
    "name": "ipython",
    "version": 3
   },
   "file_extension": ".py",
   "mimetype": "text/x-python",
   "name": "python",
   "nbconvert_exporter": "python",
   "pygments_lexer": "ipython3",
   "version": "3.7.3"
  }
 },
 "nbformat": 4,
 "nbformat_minor": 2
}
